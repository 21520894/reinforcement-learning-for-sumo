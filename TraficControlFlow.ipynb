{
  "cells": [
    {
      "cell_type": "markdown",
      "metadata": {
        "id": "OddORwDCfje-"
      },
      "source": [
        "# INSTALLATION"
      ]
    },
    {
      "cell_type": "code",
      "execution_count": 1,
      "metadata": {
        "colab": {
          "base_uri": "https://localhost:8080/"
        },
        "id": "B78YN9_XfNm9",
        "outputId": "54270d0e-2ed1-43c6-b9b4-30698f3384a0"
      },
      "outputs": [
        {
          "output_type": "stream",
          "name": "stdout",
          "text": [
            " SUMO is a highly portable, microscopic traffic simulation package designed to handle large road networks. SUMO is open source, licensed under the EPLv2.\n",
            " More info: https://launchpad.net/~sumo/+archive/ubuntu/stable\n",
            "Press [ENTER] to continue or Ctrl-c to cancel adding it.\n",
            "\n",
            "Get:1 https://cloud.r-project.org/bin/linux/ubuntu focal-cran40/ InRelease [3,622 B]\n",
            "Hit:2 https://developer.download.nvidia.com/compute/cuda/repos/ubuntu2004/x86_64  InRelease\n",
            "Hit:3 http://archive.ubuntu.com/ubuntu focal InRelease\n",
            "Get:4 http://archive.ubuntu.com/ubuntu focal-updates InRelease [114 kB]\n",
            "Get:5 https://cloud.r-project.org/bin/linux/ubuntu focal-cran40/ Packages [82.8 kB]\n",
            "Get:6 http://ppa.launchpad.net/c2d4u.team/c2d4u4.0+/ubuntu focal InRelease [18.1 kB]\n",
            "Get:7 http://security.ubuntu.com/ubuntu focal-security InRelease [114 kB]\n",
            "Get:8 http://archive.ubuntu.com/ubuntu focal-backports InRelease [108 kB]\n",
            "Get:9 http://archive.ubuntu.com/ubuntu focal-updates/main amd64 Packages [3,346 kB]\n",
            "Hit:10 http://ppa.launchpad.net/cran/libgit2/ubuntu focal InRelease\n",
            "Get:11 http://archive.ubuntu.com/ubuntu focal-updates/universe amd64 Packages [1,369 kB]\n",
            "Get:12 http://archive.ubuntu.com/ubuntu focal-updates/restricted amd64 Packages [2,670 kB]\n",
            "Hit:13 http://ppa.launchpad.net/deadsnakes/ppa/ubuntu focal InRelease\n",
            "Get:14 http://archive.ubuntu.com/ubuntu focal-updates/multiverse amd64 Packages [40.2 kB]\n",
            "Get:15 http://security.ubuntu.com/ubuntu focal-security/main amd64 Packages [2,866 kB]\n",
            "Hit:16 http://ppa.launchpad.net/graphics-drivers/ppa/ubuntu focal InRelease\n",
            "Get:17 http://ppa.launchpad.net/sumo/stable/ubuntu focal InRelease [17.5 kB]\n",
            "Hit:18 http://ppa.launchpad.net/ubuntugis/ppa/ubuntu focal InRelease\n",
            "Get:19 http://security.ubuntu.com/ubuntu focal-security/multiverse amd64 Packages [37.5 kB]\n",
            "Get:20 http://security.ubuntu.com/ubuntu focal-security/universe amd64 Packages [1,070 kB]\n",
            "Get:21 http://security.ubuntu.com/ubuntu focal-security/restricted amd64 Packages [2,529 kB]\n",
            "Get:22 http://ppa.launchpad.net/c2d4u.team/c2d4u4.0+/ubuntu focal/main Sources [2,604 kB]\n",
            "Get:23 http://ppa.launchpad.net/c2d4u.team/c2d4u4.0+/ubuntu focal/main amd64 Packages [1,230 kB]\n",
            "Get:24 http://ppa.launchpad.net/sumo/stable/ubuntu focal/main amd64 Packages [900 B]\n",
            "Fetched 18.2 MB in 5s (3,977 kB/s)\n",
            "Reading package lists... Done\n",
            "Hit:1 https://cloud.r-project.org/bin/linux/ubuntu focal-cran40/ InRelease\n",
            "Hit:2 https://developer.download.nvidia.com/compute/cuda/repos/ubuntu2004/x86_64  InRelease\n",
            "Hit:3 http://security.ubuntu.com/ubuntu focal-security InRelease\n",
            "Hit:4 http://ppa.launchpad.net/c2d4u.team/c2d4u4.0+/ubuntu focal InRelease\n",
            "Hit:5 http://archive.ubuntu.com/ubuntu focal InRelease\n",
            "Hit:6 http://archive.ubuntu.com/ubuntu focal-updates InRelease\n",
            "Hit:7 http://ppa.launchpad.net/cran/libgit2/ubuntu focal InRelease\n",
            "Hit:8 http://archive.ubuntu.com/ubuntu focal-backports InRelease\n",
            "Hit:9 http://ppa.launchpad.net/deadsnakes/ppa/ubuntu focal InRelease\n",
            "Hit:10 http://ppa.launchpad.net/graphics-drivers/ppa/ubuntu focal InRelease\n",
            "Hit:11 http://ppa.launchpad.net/sumo/stable/ubuntu focal InRelease\n",
            "Hit:12 http://ppa.launchpad.net/ubuntugis/ppa/ubuntu focal InRelease\n",
            "Reading package lists... Done\n",
            "Reading package lists... Done\n",
            "Building dependency tree       \n",
            "Reading state information... Done\n",
            "The following additional packages will be installed:\n",
            "  binfmt-support fastjar jarwrapper javascript-common libdap25 libdapclient6v5\n",
            "  libepsilon1 libfox-1.6-0 libgdal26 libjs-jquery libjs-openlayers\n",
            "  libjs-underscore libproj15 libspatialindex-c6 libspatialindex-dev\n",
            "  libspatialindex6 proj-bin python3-numpy python3-pyproj python3-rtree\n",
            "Suggested packages:\n",
            "  apache2 | lighttpd | httpd python-numpy-doc python3-pytest python3-numpy-dbg\n",
            "The following NEW packages will be installed:\n",
            "  binfmt-support fastjar jarwrapper javascript-common libdap25 libdapclient6v5\n",
            "  libepsilon1 libfox-1.6-0 libgdal26 libjs-jquery libjs-openlayers\n",
            "  libjs-underscore libproj15 libspatialindex-c6 libspatialindex-dev\n",
            "  libspatialindex6 proj-bin python3-numpy python3-pyproj python3-rtree sumo\n",
            "  sumo-doc sumo-tools\n",
            "0 upgraded, 23 newly installed, 0 to remove and 25 not upgraded.\n",
            "Need to get 128 MB of archives.\n",
            "After this operation, 660 MB of additional disk space will be used.\n",
            "Get:1 http://archive.ubuntu.com/ubuntu focal/universe amd64 binfmt-support amd64 2.2.0-2 [58.2 kB]\n",
            "Get:2 http://ppa.launchpad.net/ubuntugis/ppa/ubuntu focal/main amd64 proj-bin amd64 7.2.1-1~focal0 [170 kB]\n",
            "Get:3 http://archive.ubuntu.com/ubuntu focal/universe amd64 fastjar amd64 2:0.98-6build1 [66.7 kB]\n",
            "Get:4 http://archive.ubuntu.com/ubuntu focal/universe amd64 jarwrapper all 0.72.10 [10.9 kB]\n",
            "Get:5 http://archive.ubuntu.com/ubuntu focal/main amd64 javascript-common all 11 [6,066 B]\n",
            "Get:6 http://archive.ubuntu.com/ubuntu focal/universe amd64 libdap25 amd64 3.20.5-1 [435 kB]\n",
            "Get:7 http://ppa.launchpad.net/ubuntugis/ppa/ubuntu focal/main amd64 python3-pyproj amd64 2.6.1+ds-2~focal2 [315 kB]\n",
            "Get:8 http://archive.ubuntu.com/ubuntu focal/universe amd64 libdapclient6v5 amd64 3.20.5-1 [92.2 kB]\n",
            "Get:9 http://archive.ubuntu.com/ubuntu focal/universe amd64 libepsilon1 amd64 0.9.2+dfsg-4 [41.0 kB]\n",
            "Get:10 http://archive.ubuntu.com/ubuntu focal/universe amd64 libfox-1.6-0 amd64 1.6.57-1build1 [890 kB]\n",
            "Get:11 http://archive.ubuntu.com/ubuntu focal/universe amd64 libproj15 amd64 6.3.1-1 [925 kB]\n",
            "Get:12 http://archive.ubuntu.com/ubuntu focal/universe amd64 libgdal26 amd64 3.0.4+dfsg-1build3 [6,156 kB]\n",
            "Get:13 http://archive.ubuntu.com/ubuntu focal/main amd64 libjs-jquery all 3.3.1~dfsg-3 [329 kB]\n",
            "Get:14 http://ppa.launchpad.net/sumo/stable/ubuntu focal/main amd64 sumo amd64 1.18.0-1~focal [26.8 MB]\n",
            "Get:15 http://archive.ubuntu.com/ubuntu focal-updates/main amd64 libjs-underscore all 1.9.1~dfsg-1ubuntu0.20.04.1 [99.5 kB]\n",
            "Get:16 http://archive.ubuntu.com/ubuntu focal/universe amd64 libspatialindex6 amd64 1.9.3-1build1 [266 kB]\n",
            "Get:17 http://archive.ubuntu.com/ubuntu focal/universe amd64 libspatialindex-c6 amd64 1.9.3-1build1 [58.3 kB]\n",
            "Get:18 http://archive.ubuntu.com/ubuntu focal-updates/main amd64 python3-numpy amd64 1:1.17.4-5ubuntu3.1 [2,724 kB]\n",
            "Get:19 http://archive.ubuntu.com/ubuntu focal/universe amd64 libspatialindex-dev amd64 1.9.3-1build1 [16.0 kB]\n",
            "Get:20 http://archive.ubuntu.com/ubuntu focal/universe amd64 python3-rtree all 0.9.4-1 [54.0 kB]\n",
            "Get:21 http://archive.ubuntu.com/ubuntu focal/universe amd64 libjs-openlayers all 2.13.1+ds2-7 [715 kB]\n",
            "Get:22 http://ppa.launchpad.net/sumo/stable/ubuntu focal/main amd64 sumo-doc all 1.18.0-1~focal [63.8 MB]\n",
            "Get:23 http://ppa.launchpad.net/sumo/stable/ubuntu focal/main amd64 sumo-tools all 1.18.0-1~focal [24.1 MB]\n",
            "Fetched 128 MB in 11s (12.1 MB/s)\n",
            "Selecting previously unselected package binfmt-support.\n",
            "(Reading database ... 123105 files and directories currently installed.)\n",
            "Preparing to unpack .../00-binfmt-support_2.2.0-2_amd64.deb ...\n",
            "Unpacking binfmt-support (2.2.0-2) ...\n",
            "Selecting previously unselected package fastjar.\n",
            "Preparing to unpack .../01-fastjar_2%3a0.98-6build1_amd64.deb ...\n",
            "Unpacking fastjar (2:0.98-6build1) ...\n",
            "Selecting previously unselected package jarwrapper.\n",
            "Preparing to unpack .../02-jarwrapper_0.72.10_all.deb ...\n",
            "Unpacking jarwrapper (0.72.10) ...\n",
            "Selecting previously unselected package javascript-common.\n",
            "Preparing to unpack .../03-javascript-common_11_all.deb ...\n",
            "Unpacking javascript-common (11) ...\n",
            "Selecting previously unselected package libdap25:amd64.\n",
            "Preparing to unpack .../04-libdap25_3.20.5-1_amd64.deb ...\n",
            "Unpacking libdap25:amd64 (3.20.5-1) ...\n",
            "Selecting previously unselected package libdapclient6v5:amd64.\n",
            "Preparing to unpack .../05-libdapclient6v5_3.20.5-1_amd64.deb ...\n",
            "Unpacking libdapclient6v5:amd64 (3.20.5-1) ...\n",
            "Selecting previously unselected package libepsilon1:amd64.\n",
            "Preparing to unpack .../06-libepsilon1_0.9.2+dfsg-4_amd64.deb ...\n",
            "Unpacking libepsilon1:amd64 (0.9.2+dfsg-4) ...\n",
            "Selecting previously unselected package libfox-1.6-0:amd64.\n",
            "Preparing to unpack .../07-libfox-1.6-0_1.6.57-1build1_amd64.deb ...\n",
            "Unpacking libfox-1.6-0:amd64 (1.6.57-1build1) ...\n",
            "Selecting previously unselected package libproj15:amd64.\n",
            "Preparing to unpack .../08-libproj15_6.3.1-1_amd64.deb ...\n",
            "Unpacking libproj15:amd64 (6.3.1-1) ...\n",
            "Selecting previously unselected package libgdal26.\n",
            "Preparing to unpack .../09-libgdal26_3.0.4+dfsg-1build3_amd64.deb ...\n",
            "Unpacking libgdal26 (3.0.4+dfsg-1build3) ...\n",
            "Selecting previously unselected package libjs-jquery.\n",
            "Preparing to unpack .../10-libjs-jquery_3.3.1~dfsg-3_all.deb ...\n",
            "Unpacking libjs-jquery (3.3.1~dfsg-3) ...\n",
            "Selecting previously unselected package libjs-underscore.\n",
            "Preparing to unpack .../11-libjs-underscore_1.9.1~dfsg-1ubuntu0.20.04.1_all.deb ...\n",
            "Unpacking libjs-underscore (1.9.1~dfsg-1ubuntu0.20.04.1) ...\n",
            "Selecting previously unselected package libspatialindex6:amd64.\n",
            "Preparing to unpack .../12-libspatialindex6_1.9.3-1build1_amd64.deb ...\n",
            "Unpacking libspatialindex6:amd64 (1.9.3-1build1) ...\n",
            "Selecting previously unselected package libspatialindex-c6:amd64.\n",
            "Preparing to unpack .../13-libspatialindex-c6_1.9.3-1build1_amd64.deb ...\n",
            "Unpacking libspatialindex-c6:amd64 (1.9.3-1build1) ...\n",
            "Selecting previously unselected package proj-bin.\n",
            "Preparing to unpack .../14-proj-bin_7.2.1-1~focal0_amd64.deb ...\n",
            "Unpacking proj-bin (7.2.1-1~focal0) ...\n",
            "Selecting previously unselected package python3-numpy.\n",
            "Preparing to unpack .../15-python3-numpy_1%3a1.17.4-5ubuntu3.1_amd64.deb ...\n",
            "Unpacking python3-numpy (1:1.17.4-5ubuntu3.1) ...\n",
            "Selecting previously unselected package python3-pyproj.\n",
            "Preparing to unpack .../16-python3-pyproj_2.6.1+ds-2~focal2_amd64.deb ...\n",
            "Unpacking python3-pyproj (2.6.1+ds-2~focal2) ...\n",
            "Selecting previously unselected package libspatialindex-dev:amd64.\n",
            "Preparing to unpack .../17-libspatialindex-dev_1.9.3-1build1_amd64.deb ...\n",
            "Unpacking libspatialindex-dev:amd64 (1.9.3-1build1) ...\n",
            "Selecting previously unselected package python3-rtree.\n",
            "Preparing to unpack .../18-python3-rtree_0.9.4-1_all.deb ...\n",
            "Unpacking python3-rtree (0.9.4-1) ...\n",
            "Selecting previously unselected package sumo.\n",
            "Preparing to unpack .../19-sumo_1.18.0-1~focal_amd64.deb ...\n",
            "Unpacking sumo (1.18.0-1~focal) ...\n",
            "Selecting previously unselected package sumo-doc.\n",
            "Preparing to unpack .../20-sumo-doc_1.18.0-1~focal_all.deb ...\n",
            "Unpacking sumo-doc (1.18.0-1~focal) ...\n",
            "Selecting previously unselected package libjs-openlayers.\n",
            "Preparing to unpack .../21-libjs-openlayers_2.13.1+ds2-7_all.deb ...\n",
            "Unpacking libjs-openlayers (2.13.1+ds2-7) ...\n",
            "Selecting previously unselected package sumo-tools.\n",
            "Preparing to unpack .../22-sumo-tools_1.18.0-1~focal_all.deb ...\n",
            "Unpacking sumo-tools (1.18.0-1~focal) ...\n",
            "Setting up fastjar (2:0.98-6build1) ...\n",
            "Setting up javascript-common (11) ...\n",
            "Setting up proj-bin (7.2.1-1~focal0) ...\n",
            "Setting up libdap25:amd64 (3.20.5-1) ...\n",
            "Setting up libspatialindex6:amd64 (1.9.3-1build1) ...\n",
            "Setting up libepsilon1:amd64 (0.9.2+dfsg-4) ...\n",
            "Setting up binfmt-support (2.2.0-2) ...\n",
            "Created symlink /etc/systemd/system/multi-user.target.wants/binfmt-support.service → /lib/systemd/system/binfmt-support.service.\n",
            "invoke-rc.d: could not determine current runlevel\n",
            "invoke-rc.d: policy-rc.d denied execution of start.\n",
            "Setting up libproj15:amd64 (6.3.1-1) ...\n",
            "Setting up python3-numpy (1:1.17.4-5ubuntu3.1) ...\n",
            "Setting up libdapclient6v5:amd64 (3.20.5-1) ...\n",
            "Setting up libjs-openlayers (2.13.1+ds2-7) ...\n",
            "Setting up libjs-jquery (3.3.1~dfsg-3) ...\n",
            "Setting up libfox-1.6-0:amd64 (1.6.57-1build1) ...\n",
            "Setting up libjs-underscore (1.9.1~dfsg-1ubuntu0.20.04.1) ...\n",
            "Setting up libspatialindex-c6:amd64 (1.9.3-1build1) ...\n",
            "Setting up jarwrapper (0.72.10) ...\n",
            "Setting up libgdal26 (3.0.4+dfsg-1build3) ...\n",
            "Setting up libspatialindex-dev:amd64 (1.9.3-1build1) ...\n",
            "Setting up python3-pyproj (2.6.1+ds-2~focal2) ...\n",
            "Setting up sumo-doc (1.18.0-1~focal) ...\n",
            "Setting up sumo (1.18.0-1~focal) ...\n",
            "Setting up python3-rtree (0.9.4-1) ...\n",
            "Setting up sumo-tools (1.18.0-1~focal) ...\n",
            "Processing triggers for systemd (245.4-4ubuntu3.22) ...\n",
            "Processing triggers for man-db (2.9.1-1) ...\n",
            "Processing triggers for mime-support (3.64ubuntu1) ...\n",
            "Processing triggers for libc-bin (2.31-0ubuntu9.9) ...\n"
          ]
        }
      ],
      "source": [
        "!add-apt-repository ppa:sumo/stable\n",
        "!apt-get update\n",
        "!apt-get install sumo sumo-tools sumo-doc"
      ]
    },
    {
      "cell_type": "code",
      "execution_count": 2,
      "metadata": {
        "id": "8lpFRmY7j6gL"
      },
      "outputs": [],
      "source": [
        "import os\n",
        "os.environ['SUMO_HOME'] = \"/usr/share/sumo\""
      ]
    },
    {
      "cell_type": "code",
      "execution_count": 3,
      "metadata": {
        "colab": {
          "base_uri": "https://localhost:8080/"
        },
        "id": "i4QaALKNy4Im",
        "outputId": "06c4ff98-98a7-4760-98d2-9cc2d82d5225"
      },
      "outputs": [
        {
          "output_type": "stream",
          "name": "stdout",
          "text": [
            "Cloning into 'sumo-rl'...\n",
            "remote: Enumerating objects: 2898, done.\u001b[K\n",
            "remote: Counting objects: 100% (660/660), done.\u001b[K\n",
            "remote: Compressing objects: 100% (173/173), done.\u001b[K\n",
            "remote: Total 2898 (delta 493), reused 544 (delta 440), pack-reused 2238\u001b[K\n",
            "Receiving objects: 100% (2898/2898), 42.11 MiB | 19.48 MiB/s, done.\n",
            "Resolving deltas: 100% (1391/1391), done.\n"
          ]
        }
      ],
      "source": [
        "!git clone https://github.com/LucasAlegre/sumo-rl"
      ]
    },
    {
      "cell_type": "code",
      "execution_count": 4,
      "metadata": {
        "colab": {
          "base_uri": "https://localhost:8080/"
        },
        "id": "PP2evwWXUJ8m",
        "outputId": "f3e3169b-e969-40ac-ced7-734918b795b1"
      },
      "outputs": [
        {
          "output_type": "stream",
          "name": "stdout",
          "text": [
            "/content/sumo-rl\n"
          ]
        }
      ],
      "source": [
        "%cd sumo-rl"
      ]
    },
    {
      "cell_type": "code",
      "execution_count": 5,
      "metadata": {
        "colab": {
          "base_uri": "https://localhost:8080/"
        },
        "id": "6DAR-C9idH5E",
        "outputId": "9dbf3101-45d1-4404-e64e-89e26554f2ee"
      },
      "outputs": [
        {
          "output_type": "stream",
          "name": "stdout",
          "text": [
            "Collecting sumo-rl\n",
            "  Downloading sumo_rl-1.4.3-py3-none-any.whl (26 kB)\n",
            "Collecting gymnasium>=0.26 (from sumo-rl)\n",
            "  Downloading gymnasium-0.28.1-py3-none-any.whl (925 kB)\n",
            "\u001b[2K     \u001b[90m━━━━━━━━━━━━━━━━━━━━━━━━━━━━━━━━━━━━━━\u001b[0m \u001b[32m925.5/925.5 kB\u001b[0m \u001b[31m23.4 MB/s\u001b[0m eta \u001b[36m0:00:00\u001b[0m\n",
            "\u001b[?25hCollecting pettingzoo>=1.22.2 (from sumo-rl)\n",
            "  Downloading pettingzoo-1.23.1-py3-none-any.whl (826 kB)\n",
            "\u001b[2K     \u001b[90m━━━━━━━━━━━━━━━━━━━━━━━━━━━━━━━━━━━━━━\u001b[0m \u001b[32m826.7/826.7 kB\u001b[0m \u001b[31m71.6 MB/s\u001b[0m eta \u001b[36m0:00:00\u001b[0m\n",
            "\u001b[?25hRequirement already satisfied: numpy in /usr/local/lib/python3.10/dist-packages (from sumo-rl) (1.22.4)\n",
            "Requirement already satisfied: pandas in /usr/local/lib/python3.10/dist-packages (from sumo-rl) (1.5.3)\n",
            "Requirement already satisfied: pillow in /usr/local/lib/python3.10/dist-packages (from sumo-rl) (8.4.0)\n",
            "Collecting sumolib>=1.14.0 (from sumo-rl)\n",
            "  Downloading sumolib-1.18.0-py3-none-any.whl (148 kB)\n",
            "\u001b[2K     \u001b[90m━━━━━━━━━━━━━━━━━━━━━━━━━━━━━━━━━━━━━━\u001b[0m \u001b[32m148.4/148.4 kB\u001b[0m \u001b[31m19.1 MB/s\u001b[0m eta \u001b[36m0:00:00\u001b[0m\n",
            "\u001b[?25hCollecting traci>=1.14.0 (from sumo-rl)\n",
            "  Downloading traci-1.18.0-py3-none-any.whl (124 kB)\n",
            "\u001b[2K     \u001b[90m━━━━━━━━━━━━━━━━━━━━━━━━━━━━━━━━━━━━━━\u001b[0m \u001b[32m124.4/124.4 kB\u001b[0m \u001b[31m15.7 MB/s\u001b[0m eta \u001b[36m0:00:00\u001b[0m\n",
            "\u001b[?25hCollecting jax-jumpy>=1.0.0 (from gymnasium>=0.26->sumo-rl)\n",
            "  Downloading jax_jumpy-1.0.0-py3-none-any.whl (20 kB)\n",
            "Requirement already satisfied: cloudpickle>=1.2.0 in /usr/local/lib/python3.10/dist-packages (from gymnasium>=0.26->sumo-rl) (2.2.1)\n",
            "Requirement already satisfied: typing-extensions>=4.3.0 in /usr/local/lib/python3.10/dist-packages (from gymnasium>=0.26->sumo-rl) (4.6.3)\n",
            "Collecting farama-notifications>=0.0.1 (from gymnasium>=0.26->sumo-rl)\n",
            "  Downloading Farama_Notifications-0.0.4-py3-none-any.whl (2.5 kB)\n",
            "Requirement already satisfied: python-dateutil>=2.8.1 in /usr/local/lib/python3.10/dist-packages (from pandas->sumo-rl) (2.8.2)\n",
            "Requirement already satisfied: pytz>=2020.1 in /usr/local/lib/python3.10/dist-packages (from pandas->sumo-rl) (2022.7.1)\n",
            "Requirement already satisfied: six>=1.5 in /usr/local/lib/python3.10/dist-packages (from python-dateutil>=2.8.1->pandas->sumo-rl) (1.16.0)\n",
            "Installing collected packages: sumolib, farama-notifications, traci, jax-jumpy, gymnasium, pettingzoo, sumo-rl\n",
            "Successfully installed farama-notifications-0.0.4 gymnasium-0.28.1 jax-jumpy-1.0.0 pettingzoo-1.23.1 sumo-rl-1.4.3 sumolib-1.18.0 traci-1.18.0\n"
          ]
        }
      ],
      "source": [
        "!pip install sumo-rl"
      ]
    },
    {
      "cell_type": "code",
      "execution_count": 6,
      "metadata": {
        "colab": {
          "base_uri": "https://localhost:8080/"
        },
        "id": "U10lP98OXv9c",
        "outputId": "51233935-bbef-4ece-f297-0d007550274a"
      },
      "outputs": [
        {
          "output_type": "stream",
          "name": "stdout",
          "text": [
            "Collecting stable_baselines3[extra]>=2.0.0a9\n",
            "  Downloading stable_baselines3-2.0.0-py3-none-any.whl (178 kB)\n",
            "\u001b[?25l     \u001b[90m━━━━━━━━━━━━━━━━━━━━━━━━━━━━━━━━━━━━━━━━\u001b[0m \u001b[32m0.0/178.4 kB\u001b[0m \u001b[31m?\u001b[0m eta \u001b[36m-:--:--\u001b[0m\r\u001b[2K     \u001b[90m━━━━━━━━━━━━━━━━━━━━━━━━━━━━━━━━━━━━━━━\u001b[0m \u001b[32m178.4/178.4 kB\u001b[0m \u001b[31m6.8 MB/s\u001b[0m eta \u001b[36m0:00:00\u001b[0m\n",
            "\u001b[?25hRequirement already satisfied: gymnasium==0.28.1 in /usr/local/lib/python3.10/dist-packages (from stable_baselines3[extra]>=2.0.0a9) (0.28.1)\n",
            "Requirement already satisfied: numpy>=1.20 in /usr/local/lib/python3.10/dist-packages (from stable_baselines3[extra]>=2.0.0a9) (1.22.4)\n",
            "Requirement already satisfied: torch>=1.11 in /usr/local/lib/python3.10/dist-packages (from stable_baselines3[extra]>=2.0.0a9) (2.0.1+cu118)\n",
            "Requirement already satisfied: cloudpickle in /usr/local/lib/python3.10/dist-packages (from stable_baselines3[extra]>=2.0.0a9) (2.2.1)\n",
            "Requirement already satisfied: pandas in /usr/local/lib/python3.10/dist-packages (from stable_baselines3[extra]>=2.0.0a9) (1.5.3)\n",
            "Requirement already satisfied: matplotlib in /usr/local/lib/python3.10/dist-packages (from stable_baselines3[extra]>=2.0.0a9) (3.7.1)\n",
            "Requirement already satisfied: opencv-python in /usr/local/lib/python3.10/dist-packages (from stable_baselines3[extra]>=2.0.0a9) (4.7.0.72)\n",
            "Requirement already satisfied: tensorboard>=2.9.1 in /usr/local/lib/python3.10/dist-packages (from stable_baselines3[extra]>=2.0.0a9) (2.12.3)\n",
            "Requirement already satisfied: psutil in /usr/local/lib/python3.10/dist-packages (from stable_baselines3[extra]>=2.0.0a9) (5.9.5)\n",
            "Requirement already satisfied: tqdm in /usr/local/lib/python3.10/dist-packages (from stable_baselines3[extra]>=2.0.0a9) (4.65.0)\n",
            "Requirement already satisfied: rich in /usr/local/lib/python3.10/dist-packages (from stable_baselines3[extra]>=2.0.0a9) (13.4.2)\n",
            "Collecting shimmy[atari]~=0.2.1 (from stable_baselines3[extra]>=2.0.0a9)\n",
            "  Downloading Shimmy-0.2.1-py3-none-any.whl (25 kB)\n",
            "Requirement already satisfied: pillow in /usr/local/lib/python3.10/dist-packages (from stable_baselines3[extra]>=2.0.0a9) (8.4.0)\n",
            "Collecting autorom[accept-rom-license]~=0.6.0 (from stable_baselines3[extra]>=2.0.0a9)\n",
            "  Downloading AutoROM-0.6.1-py3-none-any.whl (9.4 kB)\n",
            "Requirement already satisfied: pygame in /usr/local/lib/python3.10/dist-packages (from stable_baselines3[extra]>=2.0.0a9) (2.4.0)\n",
            "Requirement already satisfied: jax-jumpy>=1.0.0 in /usr/local/lib/python3.10/dist-packages (from gymnasium==0.28.1->stable_baselines3[extra]>=2.0.0a9) (1.0.0)\n",
            "Requirement already satisfied: typing-extensions>=4.3.0 in /usr/local/lib/python3.10/dist-packages (from gymnasium==0.28.1->stable_baselines3[extra]>=2.0.0a9) (4.6.3)\n",
            "Requirement already satisfied: farama-notifications>=0.0.1 in /usr/local/lib/python3.10/dist-packages (from gymnasium==0.28.1->stable_baselines3[extra]>=2.0.0a9) (0.0.4)\n",
            "Requirement already satisfied: click in /usr/local/lib/python3.10/dist-packages (from autorom[accept-rom-license]~=0.6.0->stable_baselines3[extra]>=2.0.0a9) (8.1.3)\n",
            "Requirement already satisfied: requests in /usr/local/lib/python3.10/dist-packages (from autorom[accept-rom-license]~=0.6.0->stable_baselines3[extra]>=2.0.0a9) (2.27.1)\n",
            "Collecting AutoROM.accept-rom-license (from autorom[accept-rom-license]~=0.6.0->stable_baselines3[extra]>=2.0.0a9)\n",
            "  Downloading AutoROM.accept-rom-license-0.6.1.tar.gz (434 kB)\n",
            "\u001b[2K     \u001b[90m━━━━━━━━━━━━━━━━━━━━━━━━━━━━━━━━━━━━━━\u001b[0m \u001b[32m434.7/434.7 kB\u001b[0m \u001b[31m28.8 MB/s\u001b[0m eta \u001b[36m0:00:00\u001b[0m\n",
            "\u001b[?25h  Installing build dependencies ... \u001b[?25l\u001b[?25hdone\n",
            "  Getting requirements to build wheel ... \u001b[?25l\u001b[?25hdone\n",
            "  Preparing metadata (pyproject.toml) ... \u001b[?25l\u001b[?25hdone\n",
            "Collecting ale-py~=0.8.1 (from shimmy[atari]~=0.2.1->stable_baselines3[extra]>=2.0.0a9)\n",
            "  Downloading ale_py-0.8.1-cp310-cp310-manylinux_2_17_x86_64.manylinux2014_x86_64.whl (1.7 MB)\n",
            "\u001b[2K     \u001b[90m━━━━━━━━━━━━━━━━━━━━━━━━━━━━━━━━━━━━━━━━\u001b[0m \u001b[32m1.7/1.7 MB\u001b[0m \u001b[31m78.3 MB/s\u001b[0m eta \u001b[36m0:00:00\u001b[0m\n",
            "\u001b[?25hRequirement already satisfied: absl-py>=0.4 in /usr/local/lib/python3.10/dist-packages (from tensorboard>=2.9.1->stable_baselines3[extra]>=2.0.0a9) (1.4.0)\n",
            "Requirement already satisfied: grpcio>=1.48.2 in /usr/local/lib/python3.10/dist-packages (from tensorboard>=2.9.1->stable_baselines3[extra]>=2.0.0a9) (1.56.0)\n",
            "Requirement already satisfied: google-auth<3,>=1.6.3 in /usr/local/lib/python3.10/dist-packages (from tensorboard>=2.9.1->stable_baselines3[extra]>=2.0.0a9) (2.17.3)\n",
            "Requirement already satisfied: google-auth-oauthlib<1.1,>=0.5 in /usr/local/lib/python3.10/dist-packages (from tensorboard>=2.9.1->stable_baselines3[extra]>=2.0.0a9) (1.0.0)\n",
            "Requirement already satisfied: markdown>=2.6.8 in /usr/local/lib/python3.10/dist-packages (from tensorboard>=2.9.1->stable_baselines3[extra]>=2.0.0a9) (3.4.3)\n",
            "Requirement already satisfied: protobuf>=3.19.6 in /usr/local/lib/python3.10/dist-packages (from tensorboard>=2.9.1->stable_baselines3[extra]>=2.0.0a9) (3.20.3)\n",
            "Requirement already satisfied: setuptools>=41.0.0 in /usr/local/lib/python3.10/dist-packages (from tensorboard>=2.9.1->stable_baselines3[extra]>=2.0.0a9) (67.7.2)\n",
            "Requirement already satisfied: tensorboard-data-server<0.8.0,>=0.7.0 in /usr/local/lib/python3.10/dist-packages (from tensorboard>=2.9.1->stable_baselines3[extra]>=2.0.0a9) (0.7.1)\n",
            "Requirement already satisfied: werkzeug>=1.0.1 in /usr/local/lib/python3.10/dist-packages (from tensorboard>=2.9.1->stable_baselines3[extra]>=2.0.0a9) (2.3.6)\n",
            "Requirement already satisfied: wheel>=0.26 in /usr/local/lib/python3.10/dist-packages (from tensorboard>=2.9.1->stable_baselines3[extra]>=2.0.0a9) (0.40.0)\n",
            "Requirement already satisfied: filelock in /usr/local/lib/python3.10/dist-packages (from torch>=1.11->stable_baselines3[extra]>=2.0.0a9) (3.12.2)\n",
            "Requirement already satisfied: sympy in /usr/local/lib/python3.10/dist-packages (from torch>=1.11->stable_baselines3[extra]>=2.0.0a9) (1.11.1)\n",
            "Requirement already satisfied: networkx in /usr/local/lib/python3.10/dist-packages (from torch>=1.11->stable_baselines3[extra]>=2.0.0a9) (3.1)\n",
            "Requirement already satisfied: jinja2 in /usr/local/lib/python3.10/dist-packages (from torch>=1.11->stable_baselines3[extra]>=2.0.0a9) (3.1.2)\n",
            "Requirement already satisfied: triton==2.0.0 in /usr/local/lib/python3.10/dist-packages (from torch>=1.11->stable_baselines3[extra]>=2.0.0a9) (2.0.0)\n",
            "Requirement already satisfied: cmake in /usr/local/lib/python3.10/dist-packages (from triton==2.0.0->torch>=1.11->stable_baselines3[extra]>=2.0.0a9) (3.25.2)\n",
            "Requirement already satisfied: lit in /usr/local/lib/python3.10/dist-packages (from triton==2.0.0->torch>=1.11->stable_baselines3[extra]>=2.0.0a9) (16.0.6)\n",
            "Requirement already satisfied: contourpy>=1.0.1 in /usr/local/lib/python3.10/dist-packages (from matplotlib->stable_baselines3[extra]>=2.0.0a9) (1.1.0)\n",
            "Requirement already satisfied: cycler>=0.10 in /usr/local/lib/python3.10/dist-packages (from matplotlib->stable_baselines3[extra]>=2.0.0a9) (0.11.0)\n",
            "Requirement already satisfied: fonttools>=4.22.0 in /usr/local/lib/python3.10/dist-packages (from matplotlib->stable_baselines3[extra]>=2.0.0a9) (4.40.0)\n",
            "Requirement already satisfied: kiwisolver>=1.0.1 in /usr/local/lib/python3.10/dist-packages (from matplotlib->stable_baselines3[extra]>=2.0.0a9) (1.4.4)\n",
            "Requirement already satisfied: packaging>=20.0 in /usr/local/lib/python3.10/dist-packages (from matplotlib->stable_baselines3[extra]>=2.0.0a9) (23.1)\n",
            "Requirement already satisfied: pyparsing>=2.3.1 in /usr/local/lib/python3.10/dist-packages (from matplotlib->stable_baselines3[extra]>=2.0.0a9) (3.1.0)\n",
            "Requirement already satisfied: python-dateutil>=2.7 in /usr/local/lib/python3.10/dist-packages (from matplotlib->stable_baselines3[extra]>=2.0.0a9) (2.8.2)\n",
            "Requirement already satisfied: pytz>=2020.1 in /usr/local/lib/python3.10/dist-packages (from pandas->stable_baselines3[extra]>=2.0.0a9) (2022.7.1)\n",
            "Requirement already satisfied: markdown-it-py>=2.2.0 in /usr/local/lib/python3.10/dist-packages (from rich->stable_baselines3[extra]>=2.0.0a9) (3.0.0)\n",
            "Requirement already satisfied: pygments<3.0.0,>=2.13.0 in /usr/local/lib/python3.10/dist-packages (from rich->stable_baselines3[extra]>=2.0.0a9) (2.14.0)\n",
            "Requirement already satisfied: importlib-resources in /usr/local/lib/python3.10/dist-packages (from ale-py~=0.8.1->shimmy[atari]~=0.2.1->stable_baselines3[extra]>=2.0.0a9) (5.12.0)\n",
            "Requirement already satisfied: cachetools<6.0,>=2.0.0 in /usr/local/lib/python3.10/dist-packages (from google-auth<3,>=1.6.3->tensorboard>=2.9.1->stable_baselines3[extra]>=2.0.0a9) (5.3.1)\n",
            "Requirement already satisfied: pyasn1-modules>=0.2.1 in /usr/local/lib/python3.10/dist-packages (from google-auth<3,>=1.6.3->tensorboard>=2.9.1->stable_baselines3[extra]>=2.0.0a9) (0.3.0)\n",
            "Requirement already satisfied: six>=1.9.0 in /usr/local/lib/python3.10/dist-packages (from google-auth<3,>=1.6.3->tensorboard>=2.9.1->stable_baselines3[extra]>=2.0.0a9) (1.16.0)\n",
            "Requirement already satisfied: rsa<5,>=3.1.4 in /usr/local/lib/python3.10/dist-packages (from google-auth<3,>=1.6.3->tensorboard>=2.9.1->stable_baselines3[extra]>=2.0.0a9) (4.9)\n",
            "Requirement already satisfied: requests-oauthlib>=0.7.0 in /usr/local/lib/python3.10/dist-packages (from google-auth-oauthlib<1.1,>=0.5->tensorboard>=2.9.1->stable_baselines3[extra]>=2.0.0a9) (1.3.1)\n",
            "Requirement already satisfied: mdurl~=0.1 in /usr/local/lib/python3.10/dist-packages (from markdown-it-py>=2.2.0->rich->stable_baselines3[extra]>=2.0.0a9) (0.1.2)\n",
            "Requirement already satisfied: urllib3<1.27,>=1.21.1 in /usr/local/lib/python3.10/dist-packages (from requests->autorom[accept-rom-license]~=0.6.0->stable_baselines3[extra]>=2.0.0a9) (1.26.16)\n",
            "Requirement already satisfied: certifi>=2017.4.17 in /usr/local/lib/python3.10/dist-packages (from requests->autorom[accept-rom-license]~=0.6.0->stable_baselines3[extra]>=2.0.0a9) (2023.5.7)\n",
            "Requirement already satisfied: charset-normalizer~=2.0.0 in /usr/local/lib/python3.10/dist-packages (from requests->autorom[accept-rom-license]~=0.6.0->stable_baselines3[extra]>=2.0.0a9) (2.0.12)\n",
            "Requirement already satisfied: idna<4,>=2.5 in /usr/local/lib/python3.10/dist-packages (from requests->autorom[accept-rom-license]~=0.6.0->stable_baselines3[extra]>=2.0.0a9) (3.4)\n",
            "Requirement already satisfied: MarkupSafe>=2.1.1 in /usr/local/lib/python3.10/dist-packages (from werkzeug>=1.0.1->tensorboard>=2.9.1->stable_baselines3[extra]>=2.0.0a9) (2.1.3)\n",
            "Requirement already satisfied: mpmath>=0.19 in /usr/local/lib/python3.10/dist-packages (from sympy->torch>=1.11->stable_baselines3[extra]>=2.0.0a9) (1.3.0)\n",
            "Requirement already satisfied: pyasn1<0.6.0,>=0.4.6 in /usr/local/lib/python3.10/dist-packages (from pyasn1-modules>=0.2.1->google-auth<3,>=1.6.3->tensorboard>=2.9.1->stable_baselines3[extra]>=2.0.0a9) (0.5.0)\n",
            "Requirement already satisfied: oauthlib>=3.0.0 in /usr/local/lib/python3.10/dist-packages (from requests-oauthlib>=0.7.0->google-auth-oauthlib<1.1,>=0.5->tensorboard>=2.9.1->stable_baselines3[extra]>=2.0.0a9) (3.2.2)\n",
            "Building wheels for collected packages: AutoROM.accept-rom-license\n",
            "  Building wheel for AutoROM.accept-rom-license (pyproject.toml) ... \u001b[?25l\u001b[?25hdone\n",
            "  Created wheel for AutoROM.accept-rom-license: filename=AutoROM.accept_rom_license-0.6.1-py3-none-any.whl size=446660 sha256=95237fa43365fc5112daa6139c3175759035a390d930310e798a170bb8b33b50\n",
            "  Stored in directory: /root/.cache/pip/wheels/6b/1b/ef/a43ff1a2f1736d5711faa1ba4c1f61be1131b8899e6a057811\n",
            "Successfully built AutoROM.accept-rom-license\n",
            "Installing collected packages: ale-py, AutoROM.accept-rom-license, autorom, shimmy, stable_baselines3\n",
            "Successfully installed AutoROM.accept-rom-license-0.6.1 ale-py-0.8.1 autorom-0.6.1 shimmy-0.2.1 stable_baselines3-2.0.0\n"
          ]
        }
      ],
      "source": [
        "!pip install \"stable_baselines3[extra]>=2.0.0a9\""
      ]
    },
    {
      "cell_type": "code",
      "execution_count": 7,
      "metadata": {
        "colab": {
          "base_uri": "https://localhost:8080/"
        },
        "id": "t3QiPPXTGyGx",
        "outputId": "e1d15bdb-8fa8-407d-e5ca-c5a92e57d966"
      },
      "outputs": [
        {
          "output_type": "stream",
          "name": "stdout",
          "text": [
            "Name: stable-baselines3\n",
            "Version: 2.0.0\n",
            "Summary: Pytorch version of Stable Baselines, implementations of reinforcement learning algorithms.\n",
            "Home-page: https://github.com/DLR-RM/stable-baselines3\n",
            "Author: Antonin Raffin\n",
            "Author-email: antonin.raffin@dlr.de\n",
            "License: MIT\n",
            "Location: /usr/local/lib/python3.10/dist-packages\n",
            "Requires: cloudpickle, gymnasium, matplotlib, numpy, pandas, torch\n",
            "Required-by: \n"
          ]
        }
      ],
      "source": [
        "!pip show \"stable_baselines3\""
      ]
    },
    {
      "cell_type": "markdown",
      "metadata": {
        "id": "ALUpZZOV1NPH"
      },
      "source": [
        "# test field"
      ]
    },
    {
      "cell_type": "code",
      "execution_count": null,
      "metadata": {
        "id": "-eIDyrlR3dp0"
      },
      "outputs": [],
      "source": [
        "import gymnasium as gym\n",
        "import sumo_rl\n",
        "env = gym.make('sumo-rl-v0',\n",
        "                net_file='nets/2way-single-intersection/single-intersection.net.xml',\n",
        "                route_file='nets/2way-single-intersection/single-intersection-vhvh.rou.xml',\n",
        "                out_csv_name='./outputs/test.csv',\n",
        "                use_gui=False,\n",
        "                num_seconds=100)\n",
        "obs, info = env.reset()\n",
        "done = False\n",
        "while not done:\n",
        "    next_obs, reward, terminated, truncated, info = env.step(env.action_space.sample())\n",
        "    # print(reward)\n",
        "    done = terminated or truncated"
      ]
    },
    {
      "cell_type": "code",
      "execution_count": null,
      "metadata": {
        "colab": {
          "base_uri": "https://localhost:8080/"
        },
        "id": "lXxKO7m9G2rD",
        "outputId": "c0fccd5a-a488-424d-d5ee-4380f3e54da3"
      },
      "outputs": [
        {
          "name": "stdout",
          "output_type": "stream",
          "text": [
            " Retrying in 1 seconds\n",
            " Retrying in 1 seconds\n",
            " Retrying in 1 seconds\n",
            "({'t': array([1., 0., 0., 0., 0., 0., 0., 0., 0., 0., 0., 0., 0., 0., 0., 0., 0.,\n",
            "       0., 0., 0., 0.], dtype=float32)}, {'t': {'t_stopped': 0, 't_accumulated_waiting_time': 0.0, 't_average_speed': 1.0}})\n"
          ]
        }
      ],
      "source": [
        "import sumo_rl\n",
        "env = sumo_rl.parallel_env(net_file='/content/sumo-rl/nets/2way-single-intersection/single-intersection.net.xml',\n",
        "                  route_file='/content/sumo-rl/nets/2way-single-intersection/single-intersection-gen.rou.xml',\n",
        "                  use_gui=False,\n",
        "                  num_seconds=100)\n",
        "observations = env.reset()\n",
        "print(env.reset())\n",
        "while env.agents:\n",
        "    actions = {agent: env.action_space(agent).sample() for agent in env.agents}  # this is where you would insert your policy\n",
        "    observations, rewards, terminations, truncations, infos = env.step(actions)"
      ]
    },
    {
      "cell_type": "code",
      "execution_count": null,
      "metadata": {
        "colab": {
          "base_uri": "https://localhost:8080/"
        },
        "id": "fUy8Au8qSOD_",
        "outputId": "17c21a69-b0ae-4b1b-e67d-de6e83e11121"
      },
      "outputs": [
        {
          "name": "stdout",
          "output_type": "stream",
          "text": [
            " Retrying in 1 seconds\n",
            " Retrying in 1 seconds\n",
            " Retrying in 1 seconds\n",
            "({'t': array([1., 0., 0., 0., 0., 0., 0., 0., 0., 0., 0., 0., 0., 0., 0., 0., 0.,\n",
            "       0., 0., 0., 0.], dtype=float32)}, {'t': {'t_stopped': 0, 't_accumulated_waiting_time': 0.0, 't_average_speed': 1.0}})\n"
          ]
        }
      ],
      "source": [
        "import sumo_rl\n",
        "env = sumo_rl.parallel_env(net_file='/content/sumo-rl/nets/2way-single-intersection/single-intersection.net.xml',\n",
        "                  route_file='/content/sumo-rl/nets/2way-single-intersection/single-intersection-vertical.rou.xml',\n",
        "                  use_gui=False,\n",
        "                  num_seconds=100)\n",
        "observations = env.reset()\n",
        "print(env.reset())\n",
        "while env.agents:\n",
        "    actions = {agent: env.action_space(agent).sample() for agent in env.agents}  # this is where you would insert your policy\n",
        "    observations, rewards, terminations, truncations, infos = env.step(actions)"
      ]
    },
    {
      "cell_type": "code",
      "execution_count": null,
      "metadata": {
        "id": "keufO-lV8mPv"
      },
      "outputs": [],
      "source": [
        "tensor([[-2.1212e-01,  5.6232e-04, -1.3597e+00, -1.3791e+00],\n",
        "        [-3.4789e-01, -1.8729e+00, -1.3085e+00, -6.5220e-01],\n",
        "        [ 1.4428e-01, -1.5320e+00, -2.2412e+00, -7.7559e-01],\n",
        "        [-5.1677e-01, -1.1100e+00, -4.5339e-01, -7.7307e-01],\n",
        "        [-2.8046e-01, -1.9452e+00, -1.6236e+00, -7.4296e-01],\n",
        "        [-3.1491e-01, -1.6154e+00, -7.3429e-01, -4.6581e-01],\n",
        "        [-6.0101e-01, -1.1764e+00, -3.8100e-01, -8.7489e-01],\n",
        "        [-1.3930e-01, -1.6834e+00, -1.3368e+00, -6.2535e-01],\n",
        "        [-2.1170e-01, -2.6993e-01, -1.0122e+00, -8.3641e-01],\n",
        "        [-2.8570e+00, -2.6041e+00,  3.9419e+00, -1.5360e+00],\n",
        "        [-3.4276e-01, -8.9144e-01, -1.1246e+00, -1.0615e+00],\n",
        "        [-9.3296e-01, -2.6429e+00, -1.4950e-01, -8.0507e-01],\n",
        "        [-2.5902e-01, -5.9893e-01, -8.0596e-01, -7.0571e-01],\n",
        "        [-7.6349e-01, -8.8115e-01, -1.6351e+00, -1.5865e+00],\n",
        "        [-9.6376e-01, -2.7179e+00, -2.7813e-01, -8.3418e-01],\n",
        "        [ 1.3863e+00, -2.0827e-01, -3.2163e+00, -7.2317e-01],\n",
        "        [-1.5527e+00, -2.6377e+00,  8.3922e-01, -1.3881e+00],\n",
        "        [ 2.6221e-01, -1.2276e+00, -1.3575e+00, -7.3001e-01],\n",
        "        [ 4.2231e-01,  1.1891e+00, -3.6280e+00, -2.2380e+00],\n",
        "        [ 1.1346e-01, -1.3554e+00, -1.6051e+00, -5.0708e-01],\n",
        "        [ 6.8516e-01, -5.4402e-01, -2.0536e+00, -4.6630e-01],\n",
        "        [-5.5810e-01, -1.2509e+00, -1.2216e+00, -9.9805e-01],\n",
        "        [-2.7896e-01, -6.5159e-01, -5.9826e-01, -6.2690e-01],\n",
        "        [ 2.1015e-01, -9.4196e-02, -2.4323e+00, -1.5542e+00],\n",
        "        [ 1.5171e-01, -6.3024e-02, -6.6423e-01, -4.2095e-01],\n",
        "        [-4.6833e-01, -1.2285e+00, -1.3090e+00, -1.2391e+00],\n",
        "        [-1.5905e+00, -3.4771e+00,  6.3258e-01, -1.1564e+00],\n",
        "        [-8.6161e-02, -1.9493e+00, -1.8577e+00, -9.6205e-01],\n",
        "        [-3.4789e-01, -1.8729e+00, -1.3085e+00, -6.5220e-01],\n",
        "        [ 6.0378e-02, -3.3346e-01, -1.7508e+00, -1.0928e+00],\n",
        "        [-1.0275e+00, -1.7572e+00,  4.8526e-02, -1.3674e+00],\n",
        "        [-2.2552e-01, -1.4631e+00, -9.6232e-01, -4.2225e-01]],\n",
        "       grad_fn=<AddmmBackward0"
      ]
    },
    {
      "cell_type": "code",
      "execution_count": null,
      "metadata": {
        "id": "uIXhrdE_9LHJ"
      },
      "outputs": [],
      "source": []
    },
    {
      "cell_type": "markdown",
      "metadata": {
        "id": "tm1VABMf9LlK"
      },
      "source": [
        "# Q-learning"
      ]
    },
    {
      "cell_type": "code",
      "execution_count": null,
      "metadata": {
        "id": "afK2YC0tVeh2"
      },
      "outputs": [],
      "source": [
        "net = \"/content/sumo-rl/nets/2x2grid/2x2.net.xml\"\n",
        "route = \"/content/sumo-rl/nets/2x2grid/2x2.rou.xml\""
      ]
    },
    {
      "cell_type": "code",
      "execution_count": null,
      "metadata": {
        "id": "HgApnStcUpl_"
      },
      "outputs": [],
      "source": [
        "## HYPERPARAMETERS\n",
        "min_green = 5\n",
        "max_green = 99\n",
        "alpha = 0.1\n",
        "gamma = 0.99\n",
        "\n",
        "init_epsilon = 0.05\n",
        "min_epsilon = 0.005\n",
        "decay = 1\n",
        "out_csv = f\"outputs/alpha{alpha}_gamma{gamma}_eps{init_epsilon}_decay{decay}\""
      ]
    },
    {
      "cell_type": "code",
      "execution_count": null,
      "metadata": {
        "id": "Dux9KERfD7k3"
      },
      "outputs": [],
      "source": [
        "from numpy.core.fromnumeric import choose\n",
        "import numpy as np\n",
        "from sumo_rl import exploration\n",
        "from sumo_rl.exploration.epsilon_greedy import EpsilonGreedy\n",
        "class QLAgent:\n",
        "    \"\"\"Q-learning Agent class.\"\"\"\n",
        "\n",
        "    def __init__(self, starting_state, state_space, action_space, alpha=0.5, gamma=0.95, exploration_strategy=EpsilonGreedy()):\n",
        "        \"\"\"Initialize Q-learning agent.\"\"\"\n",
        "        self.state = starting_state\n",
        "        self.state_space = state_space\n",
        "        self.action_space = action_space\n",
        "        self.action = None\n",
        "        self.alpha = alpha\n",
        "        self.gamma = gamma\n",
        "        self.q_table = {self.state: np.zeros(action_space.n)}\n",
        "        self.exploration = exploration_strategy\n",
        "        self.acc_reward = 0\n",
        "\n",
        "    def act(self):\n",
        "        \"\"\"Choose action based on Q-table.\"\"\"\n",
        "        self.action = self.exploration.choose(self.q_table, self.state, self.action_space)\n",
        "        return self.action\n",
        "\n",
        "    def learn(self, next_state, reward, done=False):\n",
        "        \"\"\"Update Q-table with new experience.\"\"\"\n",
        "        if next_state not in self.q_table:\n",
        "            self.q_table[next_state] = np.zeros(self.action_space.n)\n",
        "\n",
        "        s = self.state\n",
        "        s1 = next_state\n",
        "        a = self.action\n",
        "        self.q_table[s][a] = self.q_table[s][a] + self.alpha * (\n",
        "            reward + self.gamma * max(self.q_table[s1]) - self.q_table[s][a]\n",
        "        )\n",
        "        self.state = s1\n",
        "        self.acc_reward += reward\n",
        "\n",
        "    def q_table(self):\n",
        "      return self.q_table\n",
        "\n",
        "    def bestAction(self,state,random = False):\n",
        "      action = self.action_space.sample()\n",
        "      if state not in self.q_table:\n",
        "        if (random == False ): return int(action)\n",
        "        print(\"NEVER MET THIS STATE BEFORE\")\n",
        "        # return int(self.action_space.sample())\n",
        "        max_dist = float('inf')\n",
        "        for learned_state in self.q_table:\n",
        "          dist = np.linalg.norm(np.array(state) - np.array(learned_state))\n",
        "          if dist < max_dist:\n",
        "            max_dist = dist\n",
        "            action = self.q_table[learned_state].argmax()\n",
        "      else:\n",
        "        action = self.q_table[state].argmax()\n",
        "      return int(action)"
      ]
    },
    {
      "cell_type": "code",
      "execution_count": null,
      "metadata": {
        "id": "AMTd9ORpT2xu"
      },
      "outputs": [],
      "source": [
        "from sumo_rl import SumoEnvironment\n",
        "def qlearn(net,route,seconds = 1000):\n",
        "    env = SumoEnvironment(\n",
        "        net_file=net,\n",
        "        route_file=route,\n",
        "        out_csv_name = out_csv,\n",
        "        use_gui=False,\n",
        "        num_seconds=seconds,\n",
        "        min_green=min_green,\n",
        "        max_green=max_green,\n",
        "    )\n",
        "\n",
        "    initial_states = env.reset()\n",
        "    # print(initial_states)\n",
        "    ql_agents = {\n",
        "        ts: QLAgent(\n",
        "            starting_state=env.encode(initial_states[ts], ts),\n",
        "            state_space=env.observation_space,\n",
        "            action_space=env.action_space,\n",
        "            alpha=alpha,\n",
        "            gamma=gamma,\n",
        "            exploration_strategy=EpsilonGreedy(\n",
        "                initial_epsilon=init_epsilon, min_epsilon=min_epsilon, decay=decay\n",
        "            ),\n",
        "        )\n",
        "        for ts in env.ts_ids\n",
        "    }\n",
        "\n",
        "    done = {\"__all__\": False}\n",
        "    while not done[\"__all__\"]:\n",
        "        actions = {ts: ql_agents[ts].act() for ts in ql_agents.keys()}\n",
        "        # print(actions)\n",
        "        # break\n",
        "        # print(\"\\n\")\n",
        "        s, r, done, _ = env.step(action=actions)\n",
        "\n",
        "        for agent_id in ql_agents.keys():\n",
        "            ql_agents[agent_id].learn(next_state=env.encode(s[agent_id], agent_id), reward=r[agent_id])\n",
        "    env.save_csv(out_csv, '1')\n",
        "    env.close()\n",
        "\n",
        "    return ql_agents"
      ]
    },
    {
      "cell_type": "code",
      "execution_count": null,
      "metadata": {
        "colab": {
          "base_uri": "https://localhost:8080/"
        },
        "id": "uEotW3T4VyQY",
        "outputId": "8dee2a03-eb2d-4363-c799-8f1edbe31fa6"
      },
      "outputs": [
        {
          "output_type": "stream",
          "name": "stdout",
          "text": [
            " Retrying in 1 seconds\n",
            " Retrying in 1 seconds\n"
          ]
        }
      ],
      "source": [
        "agent = qlearn(net,route,seconds = 100000)"
      ]
    },
    {
      "cell_type": "code",
      "execution_count": null,
      "metadata": {
        "colab": {
          "base_uri": "https://localhost:8080/"
        },
        "id": "mpvWmrVDZyPU",
        "outputId": "42eb1075-484f-443b-cf9f-aba09e88471a"
      },
      "outputs": [
        {
          "data": {
            "text/plain": [
              "dict_keys(['t'])"
            ]
          },
          "execution_count": 35,
          "metadata": {},
          "output_type": "execute_result"
        }
      ],
      "source": [
        "agent.keys()"
      ]
    },
    {
      "cell_type": "code",
      "execution_count": null,
      "metadata": {
        "colab": {
          "base_uri": "https://localhost:8080/"
        },
        "id": "D-9RK3XwYeNj",
        "outputId": "6fdacff2-97d3-4478-f723-56bf2fa1f047"
      },
      "outputs": [
        {
          "name": "stderr",
          "output_type": "stream",
          "text": [
            "/usr/local/lib/python3.10/dist-packages/ipykernel/ipkernel.py:283: DeprecationWarning: `should_run_async` will not call `transform_cell` automatically in the future. Please pass the result to `transformed_cell` argument and any exception that happen during thetransform in `preprocessing_exc_tuple` in IPython 7.17 and above.\n",
            "  and should_run_async(code)\n"
          ]
        },
        {
          "data": {
            "text/plain": [
              "(0, 0.0, 0, 0, 0, 0, 0, 0, 0, 0, 0, 0, 0, 0, 0, 0, 0, 0)"
            ]
          },
          "execution_count": 17,
          "metadata": {},
          "output_type": "execute_result"
        }
      ],
      "source": [
        "next(iter(agent['t'].q_table))"
      ]
    },
    {
      "cell_type": "code",
      "execution_count": null,
      "metadata": {
        "colab": {
          "base_uri": "https://localhost:8080/"
        },
        "id": "Qo5_YF-pcigr",
        "outputId": "bf9aab13-721a-4f27-9ac1-ff32b9e334ce"
      },
      "outputs": [
        {
          "name": "stdout",
          "output_type": "stream",
          "text": [
            "(0, 0.0, 0, 0, 0, 0, 0, 0, 0, 0, 0, 0, 0, 0, 0, 0, 0, 0)\n"
          ]
        },
        {
          "name": "stderr",
          "output_type": "stream",
          "text": [
            "/usr/local/lib/python3.10/dist-packages/ipykernel/ipkernel.py:283: DeprecationWarning: `should_run_async` will not call `transform_cell` automatically in the future. Please pass the result to `transformed_cell` argument and any exception that happen during thetransform in `preprocessing_exc_tuple` in IPython 7.17 and above.\n",
            "  and should_run_async(code)\n"
          ]
        }
      ],
      "source": [
        "for each in agent['t'].q_table:\n",
        "  print(each)\n",
        "  break"
      ]
    },
    {
      "cell_type": "code",
      "execution_count": null,
      "metadata": {
        "colab": {
          "base_uri": "https://localhost:8080/"
        },
        "id": "Fc8CHLlOdViy",
        "outputId": "3a613c0f-c5b7-496d-f1f8-56debac73831"
      },
      "outputs": [
        {
          "name": "stderr",
          "output_type": "stream",
          "text": [
            "/usr/local/lib/python3.10/dist-packages/ipykernel/ipkernel.py:283: DeprecationWarning: `should_run_async` will not call `transform_cell` automatically in the future. Please pass the result to `transformed_cell` argument and any exception that happen during thetransform in `preprocessing_exc_tuple` in IPython 7.17 and above.\n",
            "  and should_run_async(code)\n"
          ]
        },
        {
          "data": {
            "text/plain": [
              "array([0., 0., 0., 0.])"
            ]
          },
          "execution_count": 26,
          "metadata": {},
          "output_type": "execute_result"
        }
      ],
      "source": [
        "agent['t'].q_table[(0, 0.0, 0, 0, 0, 0, 0, 0, 0, 0, 0, 0, 0, 0, 0, 0, 0, 0)]"
      ]
    },
    {
      "cell_type": "code",
      "execution_count": null,
      "metadata": {
        "colab": {
          "base_uri": "https://localhost:8080/"
        },
        "id": "LFz_5FqujTLe",
        "outputId": "51d0238c-3d9e-4170-9fde-8a364099b5b6"
      },
      "outputs": [
        {
          "data": {
            "text/plain": [
              "0"
            ]
          },
          "execution_count": 17,
          "metadata": {},
          "output_type": "execute_result"
        }
      ],
      "source": [
        "agent['t'].bestAction((0, 0.0, 0, 0, 0, 0, 0, 0, 0, 0))"
      ]
    },
    {
      "cell_type": "code",
      "execution_count": null,
      "metadata": {
        "id": "DpVCYk6U4R3q"
      },
      "outputs": [],
      "source": [
        "import sumo_rl\n",
        "from sumo_rl import SumoEnvironment\n",
        "def Play(net, rou , ql_agents, seconds = 1000, gui = False, out ='./'):\n",
        "  env = SumoEnvironment(\n",
        "        net_file=net,\n",
        "        route_file=route,\n",
        "        out_csv_name = out_csv,\n",
        "        use_gui=False,\n",
        "        num_seconds=seconds,\n",
        "        min_green=min_green,\n",
        "        max_green=max_green,\n",
        "    )\n",
        "  s = env.reset()\n",
        "  # print(s)\n",
        "  done = {\"__all__\": False}\n",
        "  infos = []\n",
        "  while not done[\"__all__\"]:\n",
        "      # actions = {ts: ql_agents[ts].act() for ts in ql_agents.keys()}\n",
        "      actions = {ts: ql_agents[ts].bestAction(env.encode(s[ts],ts)) for ts in ql_agents.keys()}\n",
        "      # print(actions)\n",
        "      s, r, done, _ = env.step(action=actions)\n",
        "      # print(s)\n",
        "      print(r)\n",
        "  env.save_csv(out_csv,'play')\n",
        "\n",
        "Play(net,route,agent,seconds = 50000)"
      ]
    },
    {
      "cell_type": "markdown",
      "metadata": {
        "id": "KpY5H87T92Ic"
      },
      "source": [
        "# plot result\n"
      ]
    },
    {
      "cell_type": "code",
      "execution_count": null,
      "metadata": {
        "id": "LyQyLT1E94bM"
      },
      "outputs": [],
      "source": [
        "import pandas as pd\n",
        "\n",
        "df = pd.read_csv(\"/content/sumo-rl/outputs/alpha0.1_gamma0.99_eps0.05_decay1_conn32_epplay.csv\")"
      ]
    },
    {
      "cell_type": "code",
      "source": [
        "from google.colab import drive\n",
        "drive.mount('/content/drive')"
      ],
      "metadata": {
        "id": "xuu_AGaZf9j3"
      },
      "execution_count": null,
      "outputs": []
    },
    {
      "cell_type": "code",
      "execution_count": null,
      "metadata": {
        "colab": {
          "base_uri": "https://localhost:8080/"
        },
        "id": "9qIy3aKv-fXa",
        "outputId": "64e25c24-68df-4542-fe5e-63015bbad1f4"
      },
      "outputs": [
        {
          "output_type": "execute_result",
          "data": {
            "text/plain": [
              "Index(['step', 'system_total_stopped', 'system_total_waiting_time',\n",
              "       'system_mean_waiting_time', 'system_mean_speed', '1_stopped',\n",
              "       '1_accumulated_waiting_time', '1_average_speed', '2_stopped',\n",
              "       '2_accumulated_waiting_time', '2_average_speed', '5_stopped',\n",
              "       '5_accumulated_waiting_time', '5_average_speed', '6_stopped',\n",
              "       '6_accumulated_waiting_time', '6_average_speed', 'agents_total_stopped',\n",
              "       'agents_total_accumulated_waiting_time'],\n",
              "      dtype='object')"
            ]
          },
          "metadata": {},
          "execution_count": 104
        }
      ],
      "source": [
        "df.keys()"
      ]
    },
    {
      "cell_type": "code",
      "execution_count": null,
      "metadata": {
        "colab": {
          "base_uri": "https://localhost:8080/",
          "height": 462
        },
        "id": "n4R2O95D-HDO",
        "outputId": "169f31c7-e15f-4ce9-bf77-469248baaa27"
      },
      "outputs": [
        {
          "output_type": "execute_result",
          "data": {
            "text/plain": [
              "[<matplotlib.lines.Line2D at 0x7f3b58c00850>]"
            ]
          },
          "metadata": {},
          "execution_count": 131
        },
        {
          "output_type": "display_data",
          "data": {
            "text/plain": [
              "<Figure size 640x480 with 1 Axes>"
            ],
            "image/png": "[encoded data removed]"
          },
          "metadata": {}
        }
      ],
      "source": [
        "import matplotlib.pyplot as plt\n",
        "plt.plot(df['step'],df[\"system_total_waiting_time\"])"
      ]
    }
  ],
  "metadata": {
    "colab": {
      "collapsed_sections": [
        "OddORwDCfje-",
        "ALUpZZOV1NPH"
      ],
      "provenance": []
    },
    "kernelspec": {
      "display_name": "Python 3",
      "name": "python3"
    },
    "language_info": {
      "name": "python"
    }
  },
  "nbformat": 4,
  "nbformat_minor": 0
}